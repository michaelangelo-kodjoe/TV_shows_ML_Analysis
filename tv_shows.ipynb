{
 "cells": [
  {
   "cell_type": "code",
   "execution_count": 2,
   "id": "3067173b",
   "metadata": {},
   "outputs": [],
   "source": [
    "import pandas as pd\n"
   ]
  },
  {
   "cell_type": "code",
   "execution_count": 6,
   "id": "2b4503e1",
   "metadata": {},
   "outputs": [
    {
     "name": "stdout",
     "output_type": "stream",
     "text": [
      "<class 'pandas.core.frame.DataFrame'>\n",
      "RangeIndex: 52894 entries, 0 to 52893\n",
      "Data columns (total 14 columns):\n",
      " #   Column                Non-Null Count  Dtype  \n",
      "---  ------                --------------  -----  \n",
      " 0   title                 52894 non-null  object \n",
      " 1   season                49643 non-null  float64\n",
      " 2   rank                  52894 non-null  int64  \n",
      " 3   critic_meta_score     52689 non-null  float64\n",
      " 4   review_content        52867 non-null  object \n",
      " 5   review_source         52689 non-null  object \n",
      " 6   author                52689 non-null  object \n",
      " 7   review_date           42938 non-null  object \n",
      " 8   summary               52894 non-null  object \n",
      " 9   meta_score            52894 non-null  int64  \n",
      " 10  user_score            52894 non-null  object \n",
      " 11  release_date          52894 non-null  object \n",
      " 12  link                  52894 non-null  object \n",
      " 13  critics_reviews_link  52894 non-null  object \n",
      "dtypes: float64(2), int64(2), object(10)\n",
      "memory usage: 5.6+ MB\n"
     ]
    }
   ],
   "source": [
    "#Load CSV.. a text to columns process was already performed to separate the season field. \n",
    "\n",
    "file_to_load = 'selected_reviews.csv'\n",
    "\n",
    "df = pd.read_csv(file_to_load)\n",
    "df.info()"
   ]
  },
  {
   "cell_type": "code",
   "execution_count": 26,
   "id": "c1104b22",
   "metadata": {},
   "outputs": [
    {
     "name": "stdout",
     "output_type": "stream",
     "text": [
      "there are 2626 different shows\n"
     ]
    }
   ],
   "source": [
    "print(f'there are {len(df.title.unique())} different shows')\n",
    "                      \n"
   ]
  },
  {
   "cell_type": "code",
   "execution_count": 52,
   "id": "9ff077a2",
   "metadata": {},
   "outputs": [
    {
     "data": {
      "text/plain": [
       "113"
      ]
     },
     "execution_count": 52,
     "metadata": {},
     "output_type": "execute_result"
    }
   ],
   "source": [
    "#find shows with multiple seasons\n",
    "\n",
    "multiple_seasons = df.groupby('title').nunique()\n",
    "multiple_seasons = multiple_seasons[multiple_seasons['season']>2]['season']\n",
    "\n",
    "\n",
    "\n",
    "multiple_seasons.sort_values(ascending = False).head(10)\n",
    "\n",
    "len(multiple_seasons)\n"
   ]
  },
  {
   "cell_type": "code",
   "execution_count": 25,
   "id": "5b2aa5bc",
   "metadata": {},
   "outputs": [
    {
     "data": {
      "text/plain": [
       "array(['Bo Burnham: Inside', 'Planet Earth: Blue Planet II',\n",
       "       'Homecoming: A Film by Beyoncé', 'The Underground Railroad',\n",
       "       'Romeo & Juliet', \"It's a Sin\", 'A Parks and Recreation Special',\n",
       "       'Longford', 'Kurt Cobain: Montage of Heck', 'Muhammad Ali',\n",
       "       'Springsteen on Broadway', 'Deadwood: The Movie',\n",
       "       'Elizabeth Is Missing', 'The Trip to Bountiful', 'Prohibition',\n",
       "       'Sing Your Song',\n",
       "       'The Black Church: This Is Our Story, This Is Our Song',\n",
       "       'Hemingway', 'Between the World and Me',\n",
       "       'Bright Lights: Starring Carrie Fisher and Debbie Reynolds',\n",
       "       'The Normal Heart', 'Six by Sondheim',\n",
       "       \"What's My Name: Muhammad Ali\", 'The Crime of the Century',\n",
       "       'The Good Lord Bird', 'Elvis Presley: The Searcher',\n",
       "       'Immigration Nation', 'The Dresser (2016)', 'Leaving Neverland',\n",
       "       'Euphoria Special Episode Part 1: Rue',\n",
       "       'No Direction Home: Bob Dylan', 'Exterminate All the Brutes',\n",
       "       'Whoopi Goldberg Presents Moms Mabley',\n",
       "       '1971: The Year That Music Changed Everything',\n",
       "       'Behind the Candelabra', 'Wartorn: 1861-2010',\n",
       "       \"Marathon: The Patriot's Day Bombing\", \"I'll Be Gone in the Dark\",\n",
       "       'Kingdom of Silence', 'Louis C.K.: 2017', 'Beartown',\n",
       "       'Jesus Christ Superstar Live in Concert',\n",
       "       'Bobby Fischer Against The World', 'Burton and Taylor',\n",
       "       'Toy Story That Time Forgot', 'The Loving Story',\n",
       "       'A Raisin in the Sun', \"All The President's Men Revisited\",\n",
       "       'Country Music',\n",
       "       'I Love You, Now Die: The Commonwealth v. Michelle Carter',\n",
       "       'The Ghost Army',\n",
       "       'The Newspaperman: The Life and Times of Ben Bradlee',\n",
       "       'Les Miserables (2019)',\n",
       "       'Agatha Christie’s The Witness for the Prosecution',\n",
       "       'Toy Story of Terror', 'Mr. Dynamite: The Rise of James Brown',\n",
       "       'Unbreakable Kimmy Schmidt: Kimmy Vs. The Reverend',\n",
       "       'Euphoria Special Episode Part 2: Jules',\n",
       "       'John McCain: For Whom the Bell Tolls', 'Chris Rock: Tamborine',\n",
       "       'Robin Williams: Come Inside My Mind',\n",
       "       'Dave Chappelle: The Age of Spin',\n",
       "       'Cancer: The Emperor of All Maladies', 'The Golden Globe Awards',\n",
       "       'Beware The Slenderman', 'Thurgood', 'All The Way (2016)',\n",
       "       'A West Wing Special to Benefit When We All Vote', 'Broken Trail',\n",
       "       'Grey Gardens', 'Amy Schumer: Live at the Apollo', 'Life Support',\n",
       "       'Crossfire Hurricane', 'An Adventure in Space and Time',\n",
       "       'Philly D.A.', \"Pretend It's a City\", 'The Defiant Ones (2017)',\n",
       "       'Manhunt (2013)', 'Challenger: The Final Flight', 'The Vow (2020)',\n",
       "       'Murder on Middle Beach', 'Annie Live!',\n",
       "       'folklore: the long pond studio sessions',\n",
       "       'Nixon by Nixon: In His Own Words', 'Steel Magnolias',\n",
       "       'Patton Oswalt: I Love Everything',\n",
       "       'Richard Pryor: Omit the Logic', 'Midnight Mass',\n",
       "       'Bill Cosby: Far From Finished', 'Hannah Gadsby: Douglas', 'Des',\n",
       "       'Sarah Silverman: We Are Miracles', 'Public Speaking', 'Restless',\n",
       "       'Quiz', 'Grease: Live', 'Jane Eyre', 'As You Like It',\n",
       "       'Framing Britney Spears',\n",
       "       'George Harrison: Living in the Material World',\n",
       "       \"Elf: Buddy's Musical Christmas\", 'Traffic', 'Wishful Drinking',\n",
       "       'Phoenix Rising', 'Jerry Before Seinfeld',\n",
       "       'Jerry Seinfeld: 23 Hours to Kill', 'Cinema Verite',\n",
       "       'Storm of the Century', 'Game Change', 'A Suitable Boy',\n",
       "       'Shangri-La (2019)', 'The Wiz Live!', 'Brexit', 'Expecting Amy',\n",
       "       'Shrek The Halls', 'Seduced and Abandoned',\n",
       "       'High School Musical 2', 'Aziz Ansari: Right Now', 'Confirmation',\n",
       "       'Bobby Kennedy for President', 'War & Peace',\n",
       "       'Night Stalker: The Hunt for a Serial Killer', 'PRIDE', 'Tiger',\n",
       "       'Spielberg', 'Filth: The Mary Whitehouse Story',\n",
       "       'To Walk Invisible: The Brontë Sisters', 'Our Nixon',\n",
       "       'Tour de Pharmacy', 'Running with Beto', 'Looking: The Movie',\n",
       "       'Live in Front of a Studio Audience: Norman Lear\\'s \"All in the Family\" and \"The Jeffersons\"',\n",
       "       \"Sarah Cooper: Everything's Fine\", 'Mrs. Wilson',\n",
       "       'Das Boot (2019)', 'Saints & Strangers', 'Addiction',\n",
       "       'Mrs. Harris', 'A Very British Scandal',\n",
       "       'The Inventor: Out for Blood in Silicon Valley', 'Clear History',\n",
       "       'O.G.', 'Paterno', 'The Miniaturist', 'A Wilderness of Error',\n",
       "       'Dopesick', 'George W. Bush: The 9/11 Interview',\n",
       "       'Dave Chappelle: Deep in the Heart of Texas', 'Hatfields & McCoys',\n",
       "       'Felicity: An American Girl Adventure', 'My Dinner with Herve',\n",
       "       'A Very Murray Christmas', 'Moby Dick', \"Scott Turow's Innocent\",\n",
       "       'Virtuality', 'Mary and Martha', 'The Sunset Limited',\n",
       "       'Too Big To Fail', 'Method to the Madness of Jerry Lewis',\n",
       "       '7 Days in Hell', 'The Wizard of Lies', 'Hairspray Live!',\n",
       "       'Fyre Fraud', 'Citizen U.S.A.: A 50 State Road Trip',\n",
       "       'Vanity Fair (2018)', 'Recount', 'The Swamp', 'Black Narcissus',\n",
       "       'Friends: The Reunion', \"Muhammad Ali's Greatest Fight\",\n",
       "       'Natalie Wood: What Remains Behind', \"Salem's Lot (2004)\",\n",
       "       'Harry Potter 20th Anniversary: Return to Hogwarts',\n",
       "       \"Dolly Parton's Coat of Many Colors\",\n",
       "       'The LEGO Star Wars Holiday Special', 'Guava Island', 'Camp Rock',\n",
       "       'The Immortal Life of Henrietta Lacks',\n",
       "       'Prosecuting Casey Anthony', 'A Christmas Story Live!',\n",
       "       'Black Mirror: Bandersnatch', 'White People',\n",
       "       'Jeffrey Epstein: Filthy Rich',\n",
       "       'Fear City: New York vs. the Mafia',\n",
       "       'Impeachment: American Crime Story', 'Phil Spector',\n",
       "       'Mockingbird Lane', 'Drew Peterson: Untouchable',\n",
       "       'Helter Skelter: An American Myth',\n",
       "       'The New York Times Presents: Malfunction: The Dressing Down of Janet Jackson',\n",
       "       'The Liberator (2020)', 'The Langoliers', 'The ABC Murders',\n",
       "       'The Comey Rule', 'Mitt', 'William & Kate', 'Coastal Elites',\n",
       "       'Beyonce: Life Is But a Dream', 'Beaches (2017)',\n",
       "       'Killing Lincoln', 'The Stand', 'Killing Kennedy',\n",
       "       'The Girl Before', 'Lizzie Borden Took an Ax', 'Peter Pan Live!',\n",
       "       'Love in the Time of Corona',\n",
       "       'The Rocky Horror Picture Show: Let’s Do the Time Warp Again',\n",
       "       'Hemingway and Gellhorn', 'Coco Chanel', 'Human Trafficking',\n",
       "       'Whitney (2015)', 'SEAL Team Six: The Raid on Osama bin Laden',\n",
       "       'Labor Pains', 'The Pee-wee Herman Show on Broadway',\n",
       "       'Sharknado 3: Oh Hell No!', 'William & Catherine: A Royal Romance',\n",
       "       'Killing Jesus', 'The Sound of Music Live!',\n",
       "       'Jodi Arias: Dirty Little Secret', 'Blonde', 'Killing Reagan',\n",
       "       'Ring of Fire (2013)',\n",
       "       \"Dolly Parton's Christmas of Many Colors: Circle of Love\",\n",
       "       'Sharknado 2: The Second One', 'The Gabby Douglas Story',\n",
       "       'The Kennedys', 'The Tommyknockers', '30 Rock: A One-Time Special',\n",
       "       'Flowers in the Attic', 'Rent (2019)',\n",
       "       '2020 Tokyo Summer Olympics Opening Ceremony', 'Fahrenheit 451',\n",
       "       'Mother, May I Sleep With Danger?', 'The Prisoner', 'Anna Nicole',\n",
       "       'Martha Behind Bars', 'Death To 2020', 'The Passion',\n",
       "       'Dirty Dancing (2017)', 'The Ten Commandments',\n",
       "       'Sharknado 4: The 4th Awakens',\n",
       "       'The Unauthorized Full House Story',\n",
       "       'Aaliyah: The Princess of R&B', 'Ghost Shark', 'The Last Templar',\n",
       "       'Liz & Dick', 'The Leisure Class'], dtype=object)"
      ]
     },
     "execution_count": 25,
     "metadata": {},
     "output_type": "execute_result"
    }
   ],
   "source": [
    "#fill null values in season column with 0\n",
    "\n",
    "df['season'].fillna(0, inplace = True)\n",
    "df['title'][df['season']==0].unique()\n",
    "\n",
    "#These programs are tv_specials and mini series. Perhaps the should be dropped. "
   ]
  }
 ],
 "metadata": {
  "kernelspec": {
   "display_name": "Python (myenv)",
   "language": "python",
   "name": "myenv"
  },
  "language_info": {
   "codemirror_mode": {
    "name": "ipython",
    "version": 3
   },
   "file_extension": ".py",
   "mimetype": "text/x-python",
   "name": "python",
   "nbconvert_exporter": "python",
   "pygments_lexer": "ipython3",
   "version": "3.7.13"
  }
 },
 "nbformat": 4,
 "nbformat_minor": 5
}
